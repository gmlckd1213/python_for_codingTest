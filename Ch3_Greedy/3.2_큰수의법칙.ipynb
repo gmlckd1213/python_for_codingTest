{
 "cells": [
  {
   "cell_type": "markdown",
   "id": "67151bc5",
   "metadata": {},
   "source": [
    "# 큰 수의 법칙\n",
    "\n",
    " 배열의 가장 큰수를 M만큼 더하지만 연속으로 k번 나올 수 없다.\n",
    " "
   ]
  },
  {
   "cell_type": "markdown",
   "id": "9f2380e4",
   "metadata": {},
   "source": [
    "내가푼 풀이"
   ]
  },
  {
   "cell_type": "code",
   "execution_count": 22,
   "id": "c6b7c2b2",
   "metadata": {},
   "outputs": [
    {
     "name": "stdout",
     "output_type": "stream",
     "text": [
      "5 8 3\n",
      "2 4 5 4 6\n",
      "46\n"
     ]
    }
   ],
   "source": [
    "N, M, K = map(int, input().split())\n",
    "N_list = list(map(int,input().split()))\n",
    "max_first = max(N_list)\n",
    "N_list.remove(t)\n",
    "max_second=max(N_list)\n",
    "s=0\n",
    "for i in range(1,M+1):\n",
    "    if i%K ==0 :\n",
    "        s+=t2\n",
    "    else:\n",
    "        s+=t\n",
    "print(s)\n",
    "        "
   ]
  },
  {
   "cell_type": "markdown",
   "id": "2833c54f",
   "metadata": {},
   "source": [
    "나동빈저자"
   ]
  },
  {
   "cell_type": "code",
   "execution_count": 34,
   "id": "65be7fbf",
   "metadata": {},
   "outputs": [
    {
     "name": "stdout",
     "output_type": "stream",
     "text": [
      "5 8 3\n",
      "2 4 5 4 6\n",
      "46\n"
     ]
    }
   ],
   "source": [
    "N, M, K = map(int,input().split())\n",
    "data = list(map(int,input().split()))\n",
    "data.sort()\n",
    "first=data[N-1]\n",
    "second=data[N-2]\n",
    "\n",
    "result=0\n",
    "\n",
    "while True:\n",
    "    for i in range(K):\n",
    "        if M == 0:\n",
    "            break\n",
    "        result += first\n",
    "        M-=1\n",
    "    if M== 0:\n",
    "        break\n",
    "    result += second\n",
    "    M -= 1\n",
    "print(result)\n"
   ]
  },
  {
   "cell_type": "code",
   "execution_count": null,
   "id": "8b0e7fd4",
   "metadata": {},
   "outputs": [],
   "source": []
  }
 ],
 "metadata": {
  "kernelspec": {
   "display_name": "Python 3 (ipykernel)",
   "language": "python",
   "name": "python3"
  },
  "language_info": {
   "codemirror_mode": {
    "name": "ipython",
    "version": 3
   },
   "file_extension": ".py",
   "mimetype": "text/x-python",
   "name": "python",
   "nbconvert_exporter": "python",
   "pygments_lexer": "ipython3",
   "version": "3.9.7"
  }
 },
 "nbformat": 4,
 "nbformat_minor": 5
}
