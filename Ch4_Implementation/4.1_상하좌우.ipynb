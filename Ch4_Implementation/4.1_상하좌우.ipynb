{
 "cells": [
  {
   "cell_type": "markdown",
   "id": "850e0aae",
   "metadata": {},
   "source": [
    "# 구현\n",
    "\n",
    "완전 탐색은 *모든 경우의 수를 주저 없이 다 계산하는 해결 방법을 의미* <br>\n",
    "시물레이션은 *문제에서 제시한 알고리즘을 한 단계씩 차례대로 직접 수행* <br>\n",
    "\n",
    "<br>\n",
    "\n",
    "파이썬 리스트를 이용할 때에 고려해야 할 사항은 **메모리제한**이다.\n"
   ]
  },
  {
   "cell_type": "markdown",
   "id": "433f8c29",
   "metadata": {},
   "source": [
    "# 상하좌우\n",
    "\n",
    "<br>\n",
    "\n",
    "N X N크기의 정사각형 공간이 있다. 가장 왼쪽 위 좌표는 (1,1)이며, 가장 오른쪽 아래는 (N,N)에 해당한다.<br>\n",
    "L, R, U, D 중 하나의 문자가 반복적으로 실행 후 좌표 값을 출력"
   ]
  },
  {
   "cell_type": "code",
   "execution_count": 7,
   "id": "5813dc48",
   "metadata": {},
   "outputs": [],
   "source": [
    "n = int(input())\n",
    "x , y = 1, 1\n",
    "plans = input().split()"
   ]
  },
  {
   "cell_type": "code",
   "execution_count": 12,
   "id": "2e76f109",
   "metadata": {},
   "outputs": [],
   "source": [
    "direct = [(0,-1),(0,1),(-1,0),(1,0)]\n",
    "move_s = ['L','R','U','D']\n",
    "\n",
    "for plan in plans:\n",
    "    for i in range(len(move_s)):\n",
    "        if plan == move_s[i]:\n",
    "            nd = (x,y) + direct[i]\n",
    "    if nd[0]<1 or nd[1]<1 or nd[0]>n or nd[1] >n:\n",
    "        continue\n",
    "    x,y=nd[0],nd[1]"
   ]
  },
  {
   "cell_type": "code",
   "execution_count": 13,
   "id": "bbe0e790",
   "metadata": {},
   "outputs": [
    {
     "data": {
      "text/plain": [
       "(3, 4)"
      ]
     },
     "execution_count": 13,
     "metadata": {},
     "output_type": "execute_result"
    }
   ],
   "source": [
    "x,y"
   ]
  },
  {
   "cell_type": "code",
   "execution_count": 10,
   "id": "4a3fc8a8",
   "metadata": {},
   "outputs": [],
   "source": [
    "dx = [0,0,-1,1]\n",
    "dy = [-1,1,0,0]\n",
    "move_types = ['L','R','U','D']\n",
    "\n",
    "for plan in plans:\n",
    "    for i in range(len(move_types)):\n",
    "        if plan == move_types[i]:\n",
    "            nx = x + dx[i]\n",
    "            ny = y + dy[i]\n",
    "    if nx<1 or ny<1 or nx>n or ny >n:\n",
    "        continue\n",
    "    x,y=nx,ny"
   ]
  },
  {
   "cell_type": "code",
   "execution_count": 11,
   "id": "1b0edc48",
   "metadata": {},
   "outputs": [
    {
     "data": {
      "text/plain": [
       "(3, 4)"
      ]
     },
     "execution_count": 11,
     "metadata": {},
     "output_type": "execute_result"
    }
   ],
   "source": [
    "x,y"
   ]
  },
  {
   "cell_type": "code",
   "execution_count": null,
   "id": "43d192ae",
   "metadata": {},
   "outputs": [],
   "source": []
  },
  {
   "cell_type": "code",
   "execution_count": null,
   "id": "19d51955",
   "metadata": {},
   "outputs": [],
   "source": []
  }
 ],
 "metadata": {
  "interpreter": {
   "hash": "b0fa6594d8f4cbf19f97940f81e996739fb7646882a419484c72d19e05852a7e"
  },
  "kernelspec": {
   "display_name": "Python 3.9.10 64-bit",
   "language": "python",
   "name": "python3"
  },
  "language_info": {
   "codemirror_mode": {
    "name": "ipython",
    "version": 3
   },
   "file_extension": ".py",
   "mimetype": "text/x-python",
   "name": "python",
   "nbconvert_exporter": "python",
   "pygments_lexer": "ipython3",
   "version": "3.9.10"
  }
 },
 "nbformat": 4,
 "nbformat_minor": 5
}
