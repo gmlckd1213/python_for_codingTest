{
 "cells": [
  {
   "cell_type": "markdown",
   "id": "eca0546f",
   "metadata": {},
   "source": [
    "# 왕실의 나이트\n",
    "\n",
    "<br>\n",
    "\n",
    "왕실 정원 은 체스판과 같은 8x8 좌표 평면이다. 왕실 정원의 특정한 한 칸에 나이트가 서있다.<br>\n",
    "나이트는 말을 타고 있기 때문에 L자 형태로만 이동할 수 있고 특정한 위치에서 다음과 같은 2가지 경우로 이동할 수 있다.<br>\n",
    "1. 수평으로 두칸 이동한 뒤에 수직으로 한 칸 이동하기\n",
    "2. 수직으로 두 칸 이동한 뒤에 수평으로 한 칸 이동하기"
   ]
  },
  {
   "cell_type": "code",
   "execution_count": 1,
   "id": "af5307c0",
   "metadata": {},
   "outputs": [
    {
     "name": "stdout",
     "output_type": "stream",
     "text": [
      "a1\n"
     ]
    }
   ],
   "source": [
    "loc = input()"
   ]
  },
  {
   "cell_type": "code",
   "execution_count": 5,
   "id": "a38941a7",
   "metadata": {},
   "outputs": [],
   "source": [
    "row = int(loc[1])\n",
    "col = int(ord(loc[0]))-int(ord('a'))+1"
   ]
  },
  {
   "cell_type": "code",
   "execution_count": 5,
   "id": "6f06c5c1",
   "metadata": {},
   "outputs": [
    {
     "name": "stdout",
     "output_type": "stream",
     "text": [
      "a1\n"
     ]
    }
   ],
   "source": [
    "loc = input()\n",
    "row = int(loc[1])\n",
    "col = int(ord(loc[0]))-int(ord('a'))+1"
   ]
  },
  {
   "cell_type": "code",
   "execution_count": 7,
   "id": "fd1332c9",
   "metadata": {},
   "outputs": [],
   "source": [
    "directs = [(-2,-1),(-2,1),(2,1),(2,-1),(-1,2),(-1,-2),(1,2),(1,-2)]\n",
    "count = 0\n",
    "for direct in directs:\n",
    "    r_row = row + direct[0]\n",
    "    r_col = col + direct[1]\n",
    "    if r_row<1 or r_col<1 or r_row>8 or r_col>8:\n",
    "        continue\n",
    "    count+=1"
   ]
  },
  {
   "cell_type": "code",
   "execution_count": 8,
   "id": "72a200e4",
   "metadata": {},
   "outputs": [
    {
     "data": {
      "text/plain": [
       "2"
      ]
     },
     "execution_count": 8,
     "metadata": {},
     "output_type": "execute_result"
    }
   ],
   "source": [
    "count"
   ]
  },
  {
   "cell_type": "code",
   "execution_count": 8,
   "id": "8be8803c",
   "metadata": {},
   "outputs": [],
   "source": []
  },
  {
   "cell_type": "code",
   "execution_count": null,
   "id": "3adfe5c5",
   "metadata": {},
   "outputs": [],
   "source": []
  }
 ],
 "metadata": {
  "kernelspec": {
   "display_name": "Python 3 (ipykernel)",
   "language": "python",
   "name": "python3"
  },
  "language_info": {
   "codemirror_mode": {
    "name": "ipython",
    "version": 3
   },
   "file_extension": ".py",
   "mimetype": "text/x-python",
   "name": "python",
   "nbconvert_exporter": "python",
   "pygments_lexer": "ipython3",
   "version": "3.9.10"
  }
 },
 "nbformat": 4,
 "nbformat_minor": 5
}
