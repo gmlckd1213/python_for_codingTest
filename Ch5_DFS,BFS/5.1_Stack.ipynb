{
 "cells": [
  {
   "cell_type": "markdown",
   "id": "efee5d9a",
   "metadata": {},
   "source": [
    "# 꼭 필오늘 한 자료구조 기초\n",
    "\n",
    "<br>\n",
    "\n",
    "*탐색*이란 많은 양의 데이터 중에서 원하는 데이터를 찾는 과정을 의미한다.<br>\n",
    "*자료구조*란 데이터를 표현하고 관리하고 처리하기 위한 구조\n",
    "\n",
    "<br>\n",
    "\n",
    "오버플로는 특정한 자료구조가 수용할 수 있는 데이터의 크기를 이미 가득 찬 상태에서 삽입연산을 수행할 떄 발생한다.<br>\n",
    "언더플로는 특정한 ㅏㅈ료구조에 데이터가 전혀 들어 있지 않은 상태에서 삭제연산을 수행하면 데이터가 전혀 없는 상태임을 말한다."
   ]
  },
  {
   "cell_type": "markdown",
   "id": "6824088a",
   "metadata": {},
   "source": [
    "# 스택?\n",
    "\n",
    "<br>\n",
    "\n",
    "선입후출(*First In Last Out*) 혹은 후입선출(*Last In First Out*)"
   ]
  },
  {
   "cell_type": "code",
   "execution_count": 2,
   "id": "48978575",
   "metadata": {},
   "outputs": [
    {
     "name": "stdout",
     "output_type": "stream",
     "text": [
      "[5, 2, 3, 1]\n",
      "[1, 3, 2, 5]\n"
     ]
    }
   ],
   "source": [
    "stack = []\n",
    "\n",
    "#삽입5-삽입2-삽입3-삽입7-삭제()-삽입1-삽입4-삭제()\n",
    "\n",
    "stack.append(5)\n",
    "stack.append(2)\n",
    "stack.append(3)\n",
    "stack.append(7)\n",
    "stack.pop()\n",
    "stack.append(1)\n",
    "stack.append(4)\n",
    "stack.pop()\n",
    "\n",
    "print(stack) #최하단 원소부터 출력\n",
    "print(stack[::-1]) #최상단 원소부터 출력"
   ]
  },
  {
   "cell_type": "markdown",
   "id": "b0cd4ba0",
   "metadata": {},
   "source": [
    "파이썬에서는 스택을 이용할 떄 별도의 라이브러리르 사용할 필요가 없다. <br>\n",
    "기본 리스트에서 append()와 pop()메서드를 이용하면 스택 자료구조와 동일하게 작동한다."
   ]
  }
 ],
 "metadata": {
  "kernelspec": {
   "display_name": "Python 3 (ipykernel)",
   "language": "python",
   "name": "python3"
  },
  "language_info": {
   "codemirror_mode": {
    "name": "ipython",
    "version": 3
   },
   "file_extension": ".py",
   "mimetype": "text/x-python",
   "name": "python",
   "nbconvert_exporter": "python",
   "pygments_lexer": "ipython3",
   "version": "3.9.7"
  }
 },
 "nbformat": 4,
 "nbformat_minor": 5
}
