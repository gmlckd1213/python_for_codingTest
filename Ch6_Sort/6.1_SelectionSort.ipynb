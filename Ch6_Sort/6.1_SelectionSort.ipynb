{
 "cells": [
  {
   "cell_type": "markdown",
   "id": "990ff1a1",
   "metadata": {},
   "source": [
    "# 정렬 \n",
    "\n",
    "데이터를 특정한 기준에 따라서 순서대로 나열하는 것을 말한다.<br>\n",
    "정렬 알고리즘으로 데이터를 정렬하면 *Binary Search*이 가능해진다.<br>\n",
    "정렬 알고리즘은 다양한데 대표적으로 선택정렬, 삽입정렬, 퀵정렬, 계수정렬이 있다."
   ]
  },
  {
   "cell_type": "markdown",
   "id": "89d0d3c3",
   "metadata": {},
   "source": [
    "# 선택 정렬\n",
    "\n",
    "**Selection Sort** \n",
    "<br>\n",
    "이 중에서 가장 작은 데이터를 선택해 맨 앞에 있는데이터와 바꾸고, 그다음 작은데이터를 선택해 앞에서 두번째 데이터와 바꾸는 과정을 복하는것.<br>\n",
    "연산속도 :O(N^2)"
   ]
  },
  {
   "cell_type": "code",
   "execution_count": 1,
   "id": "b84500ac",
   "metadata": {},
   "outputs": [],
   "source": [
    "array = [7, 5, 9, 0, 3, 1, 6, 2, 4, 8]\n",
    "\n",
    "for i in range(len(array)):\n",
    "    min_index = i #가장 작은 원소의 인덱스\n",
    "    for j in range(i+1, len(array)):\n",
    "        if array[min_index] > array[j]:\n",
    "            min_index = j\n",
    "    array[i],array[min_index] = array[min_index], array[i] # swap"
   ]
  },
  {
   "cell_type": "code",
   "execution_count": 2,
   "id": "c6b1e802",
   "metadata": {},
   "outputs": [
    {
     "data": {
      "text/plain": [
       "[0, 1, 2, 3, 4, 5, 6, 7, 8, 9]"
      ]
     },
     "execution_count": 2,
     "metadata": {},
     "output_type": "execute_result"
    }
   ],
   "source": [
    "array"
   ]
  },
  {
   "cell_type": "markdown",
   "id": "9a9ab349",
   "metadata": {},
   "source": [
    "파이썬 스와프"
   ]
  },
  {
   "cell_type": "code",
   "execution_count": 3,
   "id": "e4ee7bca",
   "metadata": {},
   "outputs": [
    {
     "name": "stdout",
     "output_type": "stream",
     "text": [
      "[5, 3]\n"
     ]
    }
   ],
   "source": [
    "# 0 인덱스와 원소 교체하기\n",
    "arr = [3, 5]\n",
    "arr[0],arr[1] = arr[1], arr[0]\n",
    "print(arr)"
   ]
  },
  {
   "cell_type": "markdown",
   "id": "349b365b",
   "metadata": {},
   "source": [
    "선택 정렬을 이용하는 경우 데이터의 개수가 10,000개 이상이면 정렬 속도가 급격히 느려지는 것을 확인할 수 있다.<br>\n",
    "기본 정렬 라이브러리르 포함해 매우 비효율적이다."
   ]
  },
  {
   "cell_type": "code",
   "execution_count": null,
   "id": "c3b1c9f2",
   "metadata": {},
   "outputs": [],
   "source": []
  },
  {
   "cell_type": "code",
   "execution_count": null,
   "id": "02ecdf52",
   "metadata": {},
   "outputs": [],
   "source": []
  },
  {
   "cell_type": "code",
   "execution_count": null,
   "id": "427a5887",
   "metadata": {},
   "outputs": [],
   "source": []
  },
  {
   "cell_type": "code",
   "execution_count": null,
   "id": "f4688bd1",
   "metadata": {},
   "outputs": [],
   "source": []
  },
  {
   "cell_type": "code",
   "execution_count": null,
   "id": "29b36108",
   "metadata": {},
   "outputs": [],
   "source": []
  },
  {
   "cell_type": "code",
   "execution_count": null,
   "id": "fa96188c",
   "metadata": {},
   "outputs": [],
   "source": []
  },
  {
   "cell_type": "code",
   "execution_count": null,
   "id": "989fe4b1",
   "metadata": {},
   "outputs": [],
   "source": []
  }
 ],
 "metadata": {
  "kernelspec": {
   "display_name": "Python 3 (ipykernel)",
   "language": "python",
   "name": "python3"
  },
  "language_info": {
   "codemirror_mode": {
    "name": "ipython",
    "version": 3
   },
   "file_extension": ".py",
   "mimetype": "text/x-python",
   "name": "python",
   "nbconvert_exporter": "python",
   "pygments_lexer": "ipython3",
   "version": "3.9.7"
  }
 },
 "nbformat": 4,
 "nbformat_minor": 5
}
