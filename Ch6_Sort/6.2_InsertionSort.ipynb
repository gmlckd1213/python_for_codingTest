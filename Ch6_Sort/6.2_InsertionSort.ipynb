{
 "cells": [
  {
   "cell_type": "markdown",
   "id": "2b1f4702",
   "metadata": {},
   "source": [
    "# 삽입 정렬\n",
    "\n",
    "*Insertion Sort*\n",
    "삽입 정렬은 데이터가 거의 정렬되어 있을 때 효율적이다. <br>\n",
    "선택 정렬은 현재 데이터의 상태와 상관없이 무조건 모든 원소를 비교하고 위치를 바꾸는 반면 삽입 정렬은 그렇지 않다.<br>\n",
    "삽입 정렬은 두 번째 데이터부터 시작한다. 첫 번째 데이터는 그 자체로 정렬되어 있다고 판단<br>\n",
    "\n",
    "<br>\n",
    "\n",
    "삽입 정렬은 정렬이 이루어진 원소는 항상 오름차수는 유지하고 있다. <br>\n",
    "이러한 특징때문에 삽입 정렬에서는 특정한 데이터가 삽입될 위치를 선정할 때 삽입될 데이터보다 작은 데이터를 만나면 멈추게 된다.<br>\n",
    "연산속도 :O(N^2)<br>\n",
    "만약 리스트가 거의 정렬되어 있거나 최선의 경우 O(N)의 시간 복잡도를 가진다."
   ]
  },
  {
   "cell_type": "code",
   "execution_count": 1,
   "id": "d3faf9eb",
   "metadata": {},
   "outputs": [
    {
     "name": "stdout",
     "output_type": "stream",
     "text": [
      "[0, 1, 2, 3, 4, 5, 6, 7, 8, 9]\n"
     ]
    }
   ],
   "source": [
    "array = [7, 5, 9, 0, 3, 1, 6, 2, 4, 8]\n",
    "\n",
    "for i in range(1,len(array)):\n",
    "    for j in range(i,0,-1):#인덱스 i부터 1까지 감소\n",
    "        if array[j] < array[j-1]:#한칸씩 왼쪽으로 이동\n",
    "            array[j],array[j-1] = array[j-1],array[j]\n",
    "        else:#자기보다 작은 데이터를 만나면 멈춤\n",
    "            break\n",
    "print(array)"
   ]
  },
  {
   "cell_type": "code",
   "execution_count": null,
   "id": "cf5facc9",
   "metadata": {},
   "outputs": [],
   "source": []
  },
  {
   "cell_type": "code",
   "execution_count": null,
   "id": "94d509ec",
   "metadata": {},
   "outputs": [],
   "source": []
  },
  {
   "cell_type": "code",
   "execution_count": null,
   "id": "1d084fe7",
   "metadata": {},
   "outputs": [],
   "source": []
  },
  {
   "cell_type": "code",
   "execution_count": null,
   "id": "91dc3d8c",
   "metadata": {},
   "outputs": [],
   "source": []
  }
 ],
 "metadata": {
  "kernelspec": {
   "display_name": "Python 3 (ipykernel)",
   "language": "python",
   "name": "python3"
  },
  "language_info": {
   "codemirror_mode": {
    "name": "ipython",
    "version": 3
   },
   "file_extension": ".py",
   "mimetype": "text/x-python",
   "name": "python",
   "nbconvert_exporter": "python",
   "pygments_lexer": "ipython3",
   "version": "3.9.7"
  }
 },
 "nbformat": 4,
 "nbformat_minor": 5
}
