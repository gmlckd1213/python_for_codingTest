{
 "cells": [
  {
   "cell_type": "markdown",
   "id": "dc51a5f4",
   "metadata": {},
   "source": [
    "# 퀵 정렬\n",
    "\n",
    "Quick Sort<br>\n",
    "알고리즘 중에 가장 많이 사용되는 알고리즘이다.<br>\n",
    "퀵 정렬은 기준을 설정한 다음 큰 수와 작은 수를 교환한 후 리스트를 반으로 나누는 방식으로 동작한다.<br>\n",
    "<br>\n",
    "퀵 정렬에서는 pivot이 사용된다.<br>\n",
    "피벗을 설정한 뒤에는 왼쪽에서부터 피벗보다 큰데이터를 찾고 오른쪽에서부터 피봇보다 작은 데이터를 찾는다. <br>\n",
    "그 다음 큰데이터와 작은 데이터의 위치를 서로 교환해준다.\n",
    "\n",
    "<br>\n",
    "시간 복잡도 : O(NlogN)<br>\n",
    "\n",
    "최악의 경우 O(N^2)\n"
   ]
  },
  {
   "cell_type": "code",
   "execution_count": 3,
   "id": "c5b01e5a",
   "metadata": {},
   "outputs": [
    {
     "name": "stdout",
     "output_type": "stream",
     "text": [
      "[0, 1, 2, 3, 4, 5, 6, 7, 8, 9]\n"
     ]
    }
   ],
   "source": [
    "array = [5, 7, 9, 0, 3, 1, 6, 2, 4, 8]\n",
    "\n",
    "def quick_sort(array):\n",
    "    if len(array) <= 1:\n",
    "        return array\n",
    "    pivot = array[0]\n",
    "    tail = array[1:]\n",
    "    \n",
    "    left_side = [x for x in tail if x <= pivot]\n",
    "    right_side = [x for x in tail if x > pivot]\n",
    "    return quick_sort(left_side)+[pivot]+quick_sort(right_side)\n",
    "\n",
    "print(quick_sort(array))"
   ]
  },
  {
   "cell_type": "code",
   "execution_count": 4,
   "id": "e4f69464",
   "metadata": {},
   "outputs": [],
   "source": [
    "def QuickSort(array):\n",
    "    left, mid, right = [], [], []\n",
    "    pivot = array[len(array)//2]\n",
    "    \n",
    "    for i in array:\n",
    "        if i < pivot:\n",
    "            left.append(i)\n",
    "        elif i > pivot:\n",
    "            right.append(i)\n",
    "        else:\n",
    "            mid.append(i)\n",
    "    return QuickSort(left)+mid+QuickSor(right)"
   ]
  },
  {
   "cell_type": "markdown",
   "id": "59752d40",
   "metadata": {},
   "source": [
    "데이터가 무작위로 입력되는 경우 퀵 정렬은 빠르게 동작할 확률이 높다.<br>\n",
    "퀵 정렬처럼 리스트의 가장 왼쪽 데이터를 피벗으로 삼을 때 혹은 이미 정렬되어 있는 경우 느리게 동작한다."
   ]
  },
  {
   "cell_type": "code",
   "execution_count": null,
   "id": "a7a90ecd",
   "metadata": {},
   "outputs": [],
   "source": []
  }
 ],
 "metadata": {
  "kernelspec": {
   "display_name": "Python 3 (ipykernel)",
   "language": "python",
   "name": "python3"
  },
  "language_info": {
   "codemirror_mode": {
    "name": "ipython",
    "version": 3
   },
   "file_extension": ".py",
   "mimetype": "text/x-python",
   "name": "python",
   "nbconvert_exporter": "python",
   "pygments_lexer": "ipython3",
   "version": "3.9.7"
  }
 },
 "nbformat": 4,
 "nbformat_minor": 5
}
