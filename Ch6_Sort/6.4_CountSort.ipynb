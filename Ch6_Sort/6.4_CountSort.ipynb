{
 "cells": [
  {
   "cell_type": "markdown",
   "id": "154b3e6e",
   "metadata": {},
   "source": [
    "# 계수 정렬\n",
    "\n",
    "*Count sort*<br>\n",
    "특정한 조건이 부합할 때만 사용할 수 있지만 매우 빠른 정렬 알고리즘이다. <br>\n",
    "모든 데이터가 양의 정수인 상황을 가정하면 데이터 개수가 N, 최댓값이 K일ㄷ 때 최악의 경우에도 O(N+K)를 보장한다."
   ]
  },
  {
   "cell_type": "code",
   "execution_count": 1,
   "id": "9c1a2d84",
   "metadata": {},
   "outputs": [
    {
     "name": "stdout",
     "output_type": "stream",
     "text": [
      "0 0 1 1 2 2 3 4 5 5 6 7 8 9 9 "
     ]
    }
   ],
   "source": [
    "# 모든 원소의 값이 0 보다 크거나 같다고 가정\n",
    "array = [7, 5, 9, 0, 3, 1, 6, 2, 9, 1, 4, 8, 0, 5, 2]\n",
    "# 모든 범위를 포함하는 리스트 선언(모든 값은 0으로 초기화)\n",
    "count = [0]*(max(array)+1)\n",
    "\n",
    "for i in range(len(array)):\n",
    "    count[array[i]] += 1 #각 데이터에 해당하는 인덱스의 값 증가\n",
    "\n",
    "for i in range(len(count)): # 리스트에 기록된 정렬 정보 확인\n",
    "    for j in range(count[i]):\n",
    "        print(i, end = ' ') # 띄어쓰기를 구분으로 등장한 횟수만큼 인덱스 출력"
   ]
  },
  {
   "cell_type": "markdown",
   "id": "65d87e17",
   "metadata": {},
   "source": [
    "현존하는 정렬 알고리즘 중에서 기수 정렬과 더불어 가장 빠르다."
   ]
  },
  {
   "cell_type": "code",
   "execution_count": null,
   "id": "e982ff34",
   "metadata": {},
   "outputs": [],
   "source": []
  },
  {
   "cell_type": "code",
   "execution_count": null,
   "id": "6f0bab25",
   "metadata": {},
   "outputs": [],
   "source": []
  },
  {
   "cell_type": "code",
   "execution_count": null,
   "id": "6f6da743",
   "metadata": {},
   "outputs": [],
   "source": []
  },
  {
   "cell_type": "code",
   "execution_count": null,
   "id": "c213e29d",
   "metadata": {},
   "outputs": [],
   "source": []
  }
 ],
 "metadata": {
  "kernelspec": {
   "display_name": "Python 3 (ipykernel)",
   "language": "python",
   "name": "python3"
  },
  "language_info": {
   "codemirror_mode": {
    "name": "ipython",
    "version": 3
   },
   "file_extension": ".py",
   "mimetype": "text/x-python",
   "name": "python",
   "nbconvert_exporter": "python",
   "pygments_lexer": "ipython3",
   "version": "3.9.7"
  }
 },
 "nbformat": 4,
 "nbformat_minor": 5
}
