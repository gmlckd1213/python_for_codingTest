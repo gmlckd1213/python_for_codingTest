{
 "cells": [
  {
   "cell_type": "markdown",
   "id": "b6c4f17f",
   "metadata": {},
   "source": [
    "# 성적이 낮은 순서로 학생 출력하기\n",
    "\n",
    "각 학생의 이름과 성적 정보가 주어졌을 때 성적이 낮은 순서대로 학생의 이름을 출력하는 프로그램을 작성."
   ]
  },
  {
   "cell_type": "code",
   "execution_count": 1,
   "id": "ca23d78e",
   "metadata": {},
   "outputs": [
    {
     "name": "stdout",
     "output_type": "stream",
     "text": [
      "2\n",
      "홍길동 95\n",
      "이순신 77\n",
      "이순신 홍길동 "
     ]
    }
   ],
   "source": [
    "# n을 입력받기\n",
    "n = int(input())\n",
    "\n",
    "# n 명의 학생 정보를 입력받아 리스트에 저장\n",
    "array = []\n",
    "for i in range(n):\n",
    "    input_data = input().split()\n",
    "    array.append((input_data[0],int(input_data[1])))\n",
    "\n",
    "# 키를 이용하여, 점수를 기준으로 정렬\n",
    "array = sorted(array, key=lambda student:student[1])\n",
    "\n",
    "# 정렬이 수행된 결과를 출력\n",
    "for student in array:\n",
    "    print(student[0],end=' ')"
   ]
  },
  {
   "cell_type": "code",
   "execution_count": null,
   "id": "2eed0810",
   "metadata": {},
   "outputs": [],
   "source": []
  },
  {
   "cell_type": "code",
   "execution_count": null,
   "id": "2a7654dd",
   "metadata": {},
   "outputs": [],
   "source": []
  },
  {
   "cell_type": "code",
   "execution_count": null,
   "id": "be04fea9",
   "metadata": {},
   "outputs": [],
   "source": []
  }
 ],
 "metadata": {
  "kernelspec": {
   "display_name": "Python 3 (ipykernel)",
   "language": "python",
   "name": "python3"
  },
  "language_info": {
   "codemirror_mode": {
    "name": "ipython",
    "version": 3
   },
   "file_extension": ".py",
   "mimetype": "text/x-python",
   "name": "python",
   "nbconvert_exporter": "python",
   "pygments_lexer": "ipython3",
   "version": "3.9.7"
  }
 },
 "nbformat": 4,
 "nbformat_minor": 5
}
