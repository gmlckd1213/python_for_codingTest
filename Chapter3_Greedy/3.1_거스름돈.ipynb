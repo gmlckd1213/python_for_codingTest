{
 "cells": [
  {
   "cell_type": "markdown",
   "id": "1bc0ee72",
   "metadata": {},
   "source": [
    "# 대표적인 그리디 문제\n",
    "\n",
    "간단히 정의하자자면 *현재상황에서 지금 당장 좋은 것만 고르는 방법*"
   ]
  },
  {
   "cell_type": "code",
   "execution_count": 6,
   "id": "1d942697",
   "metadata": {},
   "outputs": [
    {
     "name": "stdout",
     "output_type": "stream",
     "text": [
      "6\n"
     ]
    }
   ],
   "source": [
    "n=1260\n",
    "count = 0\n",
    "coin_types=[500,100,50,10]\n",
    "\n",
    "for coin in coin_types:\n",
    "    count += n//coin\n",
    "    n%=coin\n",
    "print(count)"
   ]
  },
  {
   "cell_type": "markdown",
   "id": "e63ece26",
   "metadata": {},
   "source": [
    "정확한 답을 찾을 수 있다는 보장이 있을 시 효율적이다!<br>\n",
    "최소한의 아이디어를 떠올리고 이것이 정당한지 검토할 수 있어야 답을 도출할 수 있다.<br>\n",
    "찾을 수 없다면 -> dp or graph"
   ]
  },
  {
   "cell_type": "code",
   "execution_count": null,
   "id": "24b6f7bc",
   "metadata": {},
   "outputs": [],
   "source": []
  }
 ],
 "metadata": {
  "kernelspec": {
   "display_name": "Python 3 (ipykernel)",
   "language": "python",
   "name": "python3"
  },
  "language_info": {
   "codemirror_mode": {
    "name": "ipython",
    "version": 3
   },
   "file_extension": ".py",
   "mimetype": "text/x-python",
   "name": "python",
   "nbconvert_exporter": "python",
   "pygments_lexer": "ipython3",
   "version": "3.9.7"
  }
 },
 "nbformat": 4,
 "nbformat_minor": 5
}
