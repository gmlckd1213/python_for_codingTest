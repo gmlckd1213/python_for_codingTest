{
 "cells": [
  {
   "cell_type": "markdown",
   "id": "400653ce",
   "metadata": {},
   "source": [
    "# 숫자 카드 게임\n",
    "\n",
    "1. N X M 형태로 놓여있는 카드가있다.\n",
    "2. 행에서 가장 작은 수를 뽑는다\n",
    "3. 행별로 뽑은 가장 작은 수 중에서 가장 큰 값을 출력한다.\n"
   ]
  },
  {
   "cell_type": "markdown",
   "id": "1a0f3763",
   "metadata": {},
   "source": [
    "내가푼 풀이"
   ]
  },
  {
   "cell_type": "code",
   "execution_count": 5,
   "id": "50c612cf",
   "metadata": {},
   "outputs": [
    {
     "name": "stdout",
     "output_type": "stream",
     "text": [
      "2 4\n",
      "7 3 1 8\n",
      "3 3 3 4\n",
      "3\n"
     ]
    }
   ],
   "source": [
    "result = []\n",
    "N, M = map(int,input().split())\n",
    "for i in range(N):\n",
    "    data = list(map(int,input().split()))\n",
    "    result.append(min(data))\n",
    "print(max(result))"
   ]
  },
  {
   "cell_type": "markdown",
   "id": "94dc3e09",
   "metadata": {},
   "source": [
    "나동빈저자"
   ]
  },
  {
   "cell_type": "code",
   "execution_count": 6,
   "id": "6a960b50",
   "metadata": {},
   "outputs": [
    {
     "name": "stdout",
     "output_type": "stream",
     "text": [
      "2 4\n",
      "7 3 1 8\n",
      "3 3 3 4\n",
      "3\n"
     ]
    }
   ],
   "source": [
    "N, M = map(int,input().split())\n",
    "result = 0\n",
    "\n",
    "for i in range(N):\n",
    "    data = list(map(int,input().split()))\n",
    "    min_value = min(data)\n",
    "    result=max(result,min_value)\n",
    "print(result)"
   ]
  },
  {
   "cell_type": "code",
   "execution_count": null,
   "id": "c4de6298",
   "metadata": {},
   "outputs": [],
   "source": []
  }
 ],
 "metadata": {
  "kernelspec": {
   "display_name": "Python 3 (ipykernel)",
   "language": "python",
   "name": "python3"
  },
  "language_info": {
   "codemirror_mode": {
    "name": "ipython",
    "version": 3
   },
   "file_extension": ".py",
   "mimetype": "text/x-python",
   "name": "python",
   "nbconvert_exporter": "python",
   "pygments_lexer": "ipython3",
   "version": "3.9.7"
  }
 },
 "nbformat": 4,
 "nbformat_minor": 5
}
