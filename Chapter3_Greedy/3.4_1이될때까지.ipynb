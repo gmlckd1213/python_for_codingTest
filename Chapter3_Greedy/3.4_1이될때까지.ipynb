{
 "cells": [
  {
   "cell_type": "markdown",
   "id": "f7389a7d",
   "metadata": {},
   "source": [
    "# 1이 될 때까지\n",
    "\n",
    "어떠한 수 N이 1이 될 때까지 다음의 두 과정 중 하나를 반복적으로 선택하여 수행함<br>\n",
    "1. N에서 1을 뺀다<br>\n",
    "2. N을 M로 나눈다.\n"
   ]
  },
  {
   "cell_type": "markdown",
   "id": "6a7ad8c7",
   "metadata": {},
   "source": [
    "내가 푼 풀이"
   ]
  },
  {
   "cell_type": "code",
   "execution_count": 8,
   "id": "da32dbec",
   "metadata": {},
   "outputs": [
    {
     "name": "stdout",
     "output_type": "stream",
     "text": [
      "25 5\n",
      "2\n"
     ]
    }
   ],
   "source": [
    "\n",
    "N, M = map(int,input().split())\n",
    "count = 0\n",
    "while True:\n",
    "    if N == 1:\n",
    "        break\n",
    "    if N%M == 0 :\n",
    "        N=N//M\n",
    "        count+=1\n",
    "    else: \n",
    "        N = N - 1\n",
    "        count+=1\n",
    "print(count)"
   ]
  },
  {
   "cell_type": "code",
   "execution_count": null,
   "id": "d1f5edf2",
   "metadata": {},
   "outputs": [],
   "source": []
  }
 ],
 "metadata": {
  "kernelspec": {
   "display_name": "Python 3 (ipykernel)",
   "language": "python",
   "name": "python3"
  },
  "language_info": {
   "codemirror_mode": {
    "name": "ipython",
    "version": 3
   },
   "file_extension": ".py",
   "mimetype": "text/x-python",
   "name": "python",
   "nbconvert_exporter": "python",
   "pygments_lexer": "ipython3",
   "version": "3.9.7"
  }
 },
 "nbformat": 4,
 "nbformat_minor": 5
}
